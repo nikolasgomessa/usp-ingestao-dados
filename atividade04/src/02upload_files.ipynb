{
 "cells": [
  {
   "cell_type": "code",
   "execution_count": 21,
   "metadata": {},
   "outputs": [],
   "source": [
    "import boto3\n",
    "from os import *\n",
    "from dotenv import load_dotenv"
   ]
  },
  {
   "cell_type": "code",
   "execution_count": 16,
   "metadata": {},
   "outputs": [],
   "source": [
    "load_dotenv(r'credencials\\.env')\n",
    "s3_client = boto3.client(\n",
    "    's3',\n",
    "    aws_access_key_id = getenv('aws_access_key_id'),\n",
    "    aws_secret_access_key = getenv('aws_secret_access_key'),\n",
    "    aws_session_token = getenv('aws_session_token')\n",
    ")"
   ]
  },
  {
   "cell_type": "code",
   "execution_count": 18,
   "metadata": {},
   "outputs": [],
   "source": [
    "s3_client.upload_file(r'\\raw_files\\Banco_novo\\bancos.tsv', 'bucket-boto-gabrafur-usp','raw_files/banco/bancos.tsv')"
   ]
  },
  {
   "cell_type": "code",
   "execution_count": 19,
   "metadata": {},
   "outputs": [],
   "source": [
    "s3_client.upload_file(r'\\raw_files\\Empregados_novo\\glassdoor_consolidado_join_match_less_v2.csv',\n",
    "                      'bucket-boto-gabrafur-usp',\n",
    "                      'raw_files/empregados/glassdoor_consolidado_join_match_less_v2.csv')"
   ]
  },
  {
   "cell_type": "code",
   "execution_count": 20,
   "metadata": {},
   "outputs": [],
   "source": [
    "s3_client.upload_file(r'\\raw_files\\Empregados_novo\\glassdoor_consolidado_join_match_v2.csv',\n",
    "                      'bucket-boto-gabrafur-usp',\n",
    "                      'raw_files/empregados/glassdoor_consolidado_join_match_v2.csv')"
   ]
  },
  {
   "cell_type": "code",
   "execution_count": 23,
   "metadata": {},
   "outputs": [],
   "source": [
    "#load_dotenv(os.getcwd() + '\\\\.env')\n",
    "for item in listdir(r'\\raw_files\\Reclamacoes_novo'):\n",
    "    s3_client.upload_file(rf'\\raw_files\\Reclamacoes_novo\\{item}',\n",
    "    'bucket-boto-gabrafur-usp',\n",
    "    f'raw_files/reclamacoes/{item}')"
   ]
  }
 ],
 "metadata": {
  "kernelspec": {
   "display_name": "Python 3",
   "language": "python",
   "name": "python3"
  },
  "language_info": {
   "codemirror_mode": {
    "name": "ipython",
    "version": 3
   },
   "file_extension": ".py",
   "mimetype": "text/x-python",
   "name": "python",
   "nbconvert_exporter": "python",
   "pygments_lexer": "ipython3",
   "version": "3.10.5"
  },
  "orig_nbformat": 4
 },
 "nbformat": 4,
 "nbformat_minor": 2
}
