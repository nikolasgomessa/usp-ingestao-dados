{
	"metadata": {
		"kernelspec": {
			"display_name": "Glue PySpark",
			"language": "python",
			"name": "glue_pyspark"
		},
		"language_info": {
			"codemirror_mode": {
				"name": "python",
				"version": 3
			},
			"file_extension": ".py",
			"mimetype": "text/x-python",
			"name": "Python_Glue_Session",
			"pygments_lexer": "python3"
		}
	},
	"nbformat_minor": 4,
	"nbformat": 4,
	"cells": [
		{
			"cell_type": "code",
			"source": "%idle_timeout 2880\n%glue_version 3.0\n%worker_type G.1X\n%number_of_workers 5\n\nimport sys\nfrom awsglue.transforms import *\nfrom awsglue.utils import getResolvedOptions\nfrom pyspark.context import SparkContext\nfrom awsglue.context import GlueContext\nfrom awsglue.job import Job\n  \nsc = SparkContext.getOrCreate()\nglueContext = GlueContext(sc)\nspark = glueContext.spark_session\njob = Job(glueContext)",
			"metadata": {
				"trusted": true,
				"editable": true,
				"vscode": {
					"languageId": "python_glue_session"
				}
			},
			"execution_count": 1,
			"outputs": [
				{
					"name": "stdout",
					"output_type": "stream",
					"text": "Welcome to the Glue Interactive Sessions Kernel\n\nFor more information on available magic commands, please type %help in any new cell.\n\n\n\nPlease view our Getting Started page to access the most up-to-date information on the Interactive Sessions kernel: https://docs.aws.amazon.com/glue/latest/dg/interactive-sessions.html\n\nInstalled kernel version: 0.38.1 \n\nCurrent idle_timeout is 2800 minutes.\n\nidle_timeout has been set to 2880 minutes.\n\nSetting Glue version to: 3.0\n\nPrevious worker type: G.1X\n\nSetting new worker type to: G.1X\n\nPrevious number of workers: 5\n\nSetting new number of workers to: 5\n\nAuthenticating with environment variables and user-defined glue_role_arn: arn:aws:iam::805766217211:role/LabRole\n\nTrying to create a Glue session for the kernel.\n\nWorker Type: G.1X\n\nNumber of Workers: 5\n\nSession ID: 982bac0d-8ee2-400f-97c9-d84740f9d140\n\nJob Type: glueetl\n\nApplying the following default arguments:\n\n--glue_kernel_version 0.38.1\n\n--enable-glue-datacatalog true\n\nWaiting for session 982bac0d-8ee2-400f-97c9-d84740f9d140 to get into ready status...\n\nSession 982bac0d-8ee2-400f-97c9-d84740f9d140 has been created.\n\n\n"
				}
			]
		},
		{
			"cell_type": "code",
			"source": "df = spark.read.parquet(\"s3://857119631738-atividade05-delivery/atividade05\")",
			"metadata": {
				"trusted": true,
				"tags": [],
				"vscode": {
					"languageId": "python_glue_session"
				}
			},
			"execution_count": 2,
			"outputs": [
				{
					"name": "stdout",
					"output_type": "stream",
					"text": "\n"
				}
			]
		},
		{
			"cell_type": "code",
			"source": "args = getResolvedOptions(sys.argv,\n                           [\n                            \"host\",\n                            \"user\",\n                            \"password\"\n                            ])",
			"metadata": {
				"trusted": true,
				"tags": [],
				"vscode": {
					"languageId": "python_glue_session"
				}
			},
			"execution_count": 5,
			"outputs": []
		},
		{
			"cell_type": "code",
			"source": "host = args['host']\nuser = args['user']\npassword = args['password']\ndf.write.format('jdbc').options(\n      url=f'jdbc:mysql://{host}:3306/delivery',\n      driver='com.mysql.jdbc.Driver',\n      dbtable='delivery_atividade05',\n      user=user,\n      password=password).mode('overwrite').save()",
			"metadata": {
				"trusted": true,
				"tags": [],
				"vscode": {
					"languageId": "python_glue_session"
				}
			},
			"execution_count": 5,
			"outputs": [
				{
					"name": "stdout",
					"output_type": "stream",
					"text": "\n"
				}
			]
		}
	]
}